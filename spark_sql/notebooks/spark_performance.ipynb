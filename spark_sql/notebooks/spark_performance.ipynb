{
 "cells": [
  {
   "cell_type": "markdown",
   "metadata": {
    "toc": true
   },
   "source": [
    "<h1>Table of Contents<span class=\"tocSkip\"></span></h1>\n",
    "<div class=\"toc\"><ul class=\"toc-item\"><li><span><a href=\"#Spark-Performance\" data-toc-modified-id=\"Spark-Performance-1\"><span class=\"toc-item-num\">1&nbsp;&nbsp;</span>Spark Performance</a></span><ul class=\"toc-item\"><li><span><a href=\"#Broadcast-variables\" data-toc-modified-id=\"Broadcast-variables-1.1\"><span class=\"toc-item-num\">1.1&nbsp;&nbsp;</span>Broadcast variables</a></span></li><li><span><a href=\"#mapPartitons\" data-toc-modified-id=\"mapPartitons-1.2\"><span class=\"toc-item-num\">1.2&nbsp;&nbsp;</span>mapPartitons</a></span></li><li><span><a href=\"#Preserve-Partitioning\" data-toc-modified-id=\"Preserve-Partitioning-1.3\"><span class=\"toc-item-num\">1.3&nbsp;&nbsp;</span>Preserve Partitioning</a></span></li></ul></li></ul></div>"
   ]
  },
  {
   "cell_type": "markdown",
   "metadata": {},
   "source": [
    "# Spark Performance\n",
    "\n"
   ]
  },
  {
   "cell_type": "markdown",
   "metadata": {},
   "source": [
    "## Broadcast variables"
   ]
  },
  {
   "cell_type": "code",
   "execution_count": null,
   "metadata": {},
   "outputs": [],
   "source": []
  },
  {
   "cell_type": "markdown",
   "metadata": {},
   "source": [
    "## mapPartitons"
   ]
  },
  {
   "cell_type": "code",
   "execution_count": null,
   "metadata": {},
   "outputs": [],
   "source": []
  },
  {
   "cell_type": "markdown",
   "metadata": {},
   "source": [
    "## Preserve Partitioning"
   ]
  },
  {
   "cell_type": "code",
   "execution_count": null,
   "metadata": {},
   "outputs": [],
   "source": []
  }
 ],
 "metadata": {
  "kernelspec": {
   "display_name": "Python 3",
   "language": "python",
   "name": "python3"
  },
  "language_info": {
   "codemirror_mode": {
    "name": "ipython",
    "version": 3
   },
   "file_extension": ".py",
   "mimetype": "text/x-python",
   "name": "python",
   "nbconvert_exporter": "python",
   "pygments_lexer": "ipython3",
   "version": "3.5.6"
  },
  "toc": {
   "base_numbering": 1,
   "nav_menu": {},
   "number_sections": true,
   "sideBar": true,
   "skip_h1_title": false,
   "title_cell": "Table of Contents",
   "title_sidebar": "Contents",
   "toc_cell": true,
   "toc_position": {},
   "toc_section_display": true,
   "toc_window_display": true
  }
 },
 "nbformat": 4,
 "nbformat_minor": 2
}
