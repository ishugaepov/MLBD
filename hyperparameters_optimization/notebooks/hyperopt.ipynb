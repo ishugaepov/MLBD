{
 "cells": [
  {
   "cell_type": "markdown",
   "metadata": {
    "toc": true
   },
   "source": [
    "<h1>Table of Contents<span class=\"tocSkip\"></span></h1>\n",
    "<div class=\"toc\"><ul class=\"toc-item\"><li><span><a href=\"#Spark-MLlib-Tuning\" data-toc-modified-id=\"Spark-MLlib-Tuning-1\"><span class=\"toc-item-num\">1&nbsp;&nbsp;</span><a href=\"https://spark.apache.org/docs/latest/ml-tuning.html\" target=\"_blank\">Spark MLlib Tuning</a></a></span></li><li><span><a href=\"#Hyperopt\" data-toc-modified-id=\"Hyperopt-2\"><span class=\"toc-item-num\">2&nbsp;&nbsp;</span><a href=\"https://github.com/hyperopt/hyperopt\" target=\"_blank\">Hyperopt</a></a></span><ul class=\"toc-item\"><li><span><a href=\"#XGBoost-Tuning\" data-toc-modified-id=\"XGBoost-Tuning-2.1\"><span class=\"toc-item-num\">2.1&nbsp;&nbsp;</span><a href=\"https://www.analyticsvidhya.com/blog/2016/03/complete-guide-parameter-tuning-xgboost-with-codes-python/\" target=\"_blank\">XGBoost Tuning</a></a></span><ul class=\"toc-item\"><li><span><a href=\"#Objective-function\" data-toc-modified-id=\"Objective-function-2.1.1\"><span class=\"toc-item-num\">2.1.1&nbsp;&nbsp;</span>Objective function</a></span></li><li><span><a href=\"#Tune-number-of-trees\" data-toc-modified-id=\"Tune-number-of-trees-2.1.2\"><span class=\"toc-item-num\">2.1.2&nbsp;&nbsp;</span>Tune number of trees</a></span></li><li><span><a href=\"#Tune-tree-specific-parameters\" data-toc-modified-id=\"Tune-tree-specific-parameters-2.1.3\"><span class=\"toc-item-num\">2.1.3&nbsp;&nbsp;</span>Tune tree-specific parameters</a></span><ul class=\"toc-item\"><li><span><a href=\"#Tune-max_depth,-min_child_weight\" data-toc-modified-id=\"Tune-max_depth,-min_child_weight-2.1.3.1\"><span class=\"toc-item-num\">2.1.3.1&nbsp;&nbsp;</span>Tune max_depth, min_child_weight</a></span></li><li><span><a href=\"#Tune-gamma\" data-toc-modified-id=\"Tune-gamma-2.1.3.2\"><span class=\"toc-item-num\">2.1.3.2&nbsp;&nbsp;</span>Tune gamma</a></span></li><li><span><a href=\"#Tune-subsample,-colsample_bytree\" data-toc-modified-id=\"Tune-subsample,-colsample_bytree-2.1.3.3\"><span class=\"toc-item-num\">2.1.3.3&nbsp;&nbsp;</span>Tune subsample, colsample_bytree</a></span></li></ul></li><li><span><a href=\"#Tune-regularization-parameters\" data-toc-modified-id=\"Tune-regularization-parameters-2.1.4\"><span class=\"toc-item-num\">2.1.4&nbsp;&nbsp;</span>Tune regularization parameters</a></span></li><li><span><a href=\"#Lower-the-learning-rate-and-decide-the-optimal-parameters\" data-toc-modified-id=\"Lower-the-learning-rate-and-decide-the-optimal-parameters-2.1.5\"><span class=\"toc-item-num\">2.1.5&nbsp;&nbsp;</span>Lower the learning rate and decide the optimal parameters</a></span></li></ul></li><li><span><a href=\"#LogisticRegression-Tuning\" data-toc-modified-id=\"LogisticRegression-Tuning-2.2\"><span class=\"toc-item-num\">2.2&nbsp;&nbsp;</span>LogisticRegression Tuning</a></span></li><li><span><a href=\"#Optional-MongoTrials\" data-toc-modified-id=\"Optional-MongoTrials-2.3\"><span class=\"toc-item-num\">2.3&nbsp;&nbsp;</span>Optional <a href=\"https://hyperopt.github.io/hyperopt/scaleout/mongodb/\" target=\"_blank\">MongoTrials</a></a></span><ul class=\"toc-item\"><li><span><a href=\"#XGBoost-Tuning\" data-toc-modified-id=\"XGBoost-Tuning-2.3.1\"><span class=\"toc-item-num\">2.3.1&nbsp;&nbsp;</span>XGBoost Tuning</a></span></li></ul></li></ul></li><li><span><a href=\"#Results\" data-toc-modified-id=\"Results-3\"><span class=\"toc-item-num\">3&nbsp;&nbsp;</span>Results</a></span></li></ul></div>"
   ]
  },
  {
   "cell_type": "markdown",
   "metadata": {},
   "source": [
    "Продолжаем работать над задачей CTR-prediction с использованием датасета от Criteo.\n",
    "\n",
    "Описание задачи и данных можно посмотреть в notebook'e предыдущей практики (`sgd_logreg_nn/notebooks/ctr_prediction_mllib.ipynb`)."
   ]
  },
  {
   "cell_type": "code",
   "execution_count": 1,
   "metadata": {},
   "outputs": [],
   "source": [
    "%matplotlib inline\n",
    "%config InlineBackend.figure_format ='retina'\n",
    "\n",
    "import os\n",
    "import sys\n",
    "import glob\n",
    "import pickle\n",
    "import seaborn as sns\n",
    "import matplotlib.pyplot as plt\n",
    "import numpy as np\n",
    "\n",
    "import pyspark\n",
    "import pyspark.sql.functions as F\n",
    "from pyspark.conf import SparkConf\n",
    "from pyspark.sql import SQLContext\n",
    "from pyspark.sql import SparkSession\n",
    "from pyspark.sql import Row\n",
    "\n",
    "COMMON_PATH = '/workspace/common'\n",
    "\n",
    "sys.path.append(os.path.join(COMMON_PATH, 'utils'))\n",
    "\n",
    "os.environ['PYSPARK_SUBMIT_ARGS'] = \"\"\"\n",
    "--jars {common}/xgboost4j-spark-0.72.jar,{common}/xgboost4j-0.72.jar\n",
    "--py-files {common}/sparkxgb.zip pyspark-shell\n",
    "\"\"\".format(common=COMMON_PATH).replace('\\n', ' ')\n",
    "\n",
    "spark = SparkSession \\\n",
    "    .builder \\\n",
    "    .master('local[*]') \\\n",
    "    .appName(\"spark_sql_examples\") \\\n",
    "    .config(\"spark.executor.memory\", \"8g\") \\\n",
    "    .config(\"spark.driver.memory\", \"8g\") \\\n",
    "    .getOrCreate()\n",
    "\n",
    "sc = spark.sparkContext\n",
    "sqlContext = SQLContext(sc)\n",
    "\n",
    "from metrics import rocauc, logloss, ne, get_ate\n",
    "from processing import split_by_col\n",
    "\n",
    "from sparkxgb.xgboost import *"
   ]
  },
  {
   "cell_type": "code",
   "execution_count": 2,
   "metadata": {},
   "outputs": [],
   "source": [
    "DATA_PATH = '/workspace/data/criteo'\n",
    "\n",
    "TRAIN_PATH = os.path.join(DATA_PATH, 'train.csv')"
   ]
  },
  {
   "cell_type": "code",
   "execution_count": 3,
   "metadata": {},
   "outputs": [],
   "source": [
    "df = sqlContext.read.format(\"com.databricks.spark.csv\") \\\n",
    "    .option(\"delimiter\", \",\") \\\n",
    "    .option(\"header\", \"true\") \\\n",
    "    .option(\"inferSchema\", \"true\") \\\n",
    "    .load('file:///' + TRAIN_PATH)"
   ]
  },
  {
   "cell_type": "markdown",
   "metadata": {},
   "source": [
    "**Remark** Необязательно использовать половину датасета и всего две категориальные переменные. Можно использовать больше данных, если вам позволяет ваша конфигурация"
   ]
  },
  {
   "cell_type": "code",
   "execution_count": 4,
   "metadata": {},
   "outputs": [],
   "source": [
    "df = df.sample(False, 0.5)"
   ]
  },
  {
   "cell_type": "code",
   "execution_count": 5,
   "metadata": {},
   "outputs": [
    {
     "data": {
      "text/plain": [
       "(13, 2)"
      ]
     },
     "execution_count": 5,
     "metadata": {},
     "output_type": "execute_result"
    }
   ],
   "source": [
    "num_columns = ['_c{}'.format(i) for i in range(1, 14)]\n",
    "cat_columns = ['_c{}'.format(i) for i in range(14, 40)][:2]\n",
    "len(num_columns), len(cat_columns)"
   ]
  },
  {
   "cell_type": "code",
   "execution_count": 6,
   "metadata": {},
   "outputs": [],
   "source": [
    "df = df.fillna(0, subset=num_columns)"
   ]
  },
  {
   "cell_type": "code",
   "execution_count": 7,
   "metadata": {},
   "outputs": [],
   "source": [
    "from pyspark.ml import PipelineModel\n",
    "\n",
    "\n",
    "pipeline_model = PipelineModel.load('/workspace/data/criteo_models/mllib_practice_model')"
   ]
  },
  {
   "cell_type": "code",
   "execution_count": 8,
   "metadata": {},
   "outputs": [
    {
     "data": {
      "text/plain": [
       "1831350"
      ]
     },
     "execution_count": 8,
     "metadata": {},
     "output_type": "execute_result"
    }
   ],
   "source": [
    "df = pipeline_model \\\n",
    "    .transform(df) \\\n",
    "    .select(F.col('_c0').alias('label'), 'features', 'id') \\\n",
    "    .cache()\n",
    "\n",
    "df.count()"
   ]
  },
  {
   "cell_type": "code",
   "execution_count": 9,
   "metadata": {},
   "outputs": [],
   "source": [
    "train_df, val_df, test_df = split_by_col(df, 'id', [0.8, 0.1, 0.1])"
   ]
  },
  {
   "cell_type": "markdown",
   "metadata": {},
   "source": [
    "# [Spark MLlib Tuning](https://spark.apache.org/docs/latest/ml-tuning.html)\n",
    "\n",
    "У имеющегося в Spark'e метода HPO есть два существенных недостатка, которые делают его мало пригодным в контексте нашей задачи:\n",
    "\n",
    "1. `ParamGridBuilder` - поиск по сетке\n",
    "2. `TrainValidationSplit` - делит данные случайнм образом"
   ]
  },
  {
   "cell_type": "code",
   "execution_count": null,
   "metadata": {},
   "outputs": [],
   "source": []
  },
  {
   "cell_type": "markdown",
   "metadata": {},
   "source": [
    "# [Hyperopt](https://github.com/hyperopt/hyperopt)\n",
    "\n",
    "Установим `hyperopt`"
   ]
  },
  {
   "cell_type": "code",
   "execution_count": 10,
   "metadata": {},
   "outputs": [
    {
     "name": "stdout",
     "output_type": "stream",
     "text": [
      "Requirement already satisfied: hyperopt in /usr/lib/python3.5/site-packages (0.2.3)\n",
      "Requirement already satisfied: numpy in /usr/lib64/python3.5/site-packages (from hyperopt) (1.17.2)\n",
      "Requirement already satisfied: six in /usr/lib/python3.5/site-packages (from hyperopt) (1.14.0)\n",
      "Requirement already satisfied: future in /usr/lib/python3.5/site-packages (from hyperopt) (0.18.2)\n",
      "Requirement already satisfied: cloudpickle in /usr/lib/python3.5/site-packages (from hyperopt) (1.3.0)\n",
      "Requirement already satisfied: tqdm in /usr/lib/python3.5/site-packages (from hyperopt) (4.43.0)\n",
      "Requirement already satisfied: networkx==2.2 in /usr/lib/python3.5/site-packages (from hyperopt) (2.2)\n",
      "Requirement already satisfied: scipy in /usr/lib64/python3.5/site-packages (from hyperopt) (1.3.3)\n",
      "Requirement already satisfied: decorator>=4.3.0 in /usr/lib/python3.5/site-packages (from networkx==2.2->hyperopt) (4.4.1)\n"
     ]
    }
   ],
   "source": [
    "!pip3.5 install hyperopt"
   ]
  },
  {
   "cell_type": "markdown",
   "metadata": {},
   "source": [
    "## [XGBoost Tuning](https://www.analyticsvidhya.com/blog/2016/03/complete-guide-parameter-tuning-xgboost-with-codes-python/)\n",
    "\n",
    "> [Notes on Parameter Tuning](https://xgboost.readthedocs.io/en/latest/tutorials/param_tuning.html)\n",
    "\n",
    "### Objective function"
   ]
  },
  {
   "cell_type": "code",
   "execution_count": 11,
   "metadata": {},
   "outputs": [],
   "source": [
    "from hyperopt import fmin, tpe, hp, Trials, STATUS_OK\n",
    "import scipy.stats as st\n",
    "\n",
    "\n",
    "def objective(space):\n",
    "    estimator = XGBoostEstimator(**space)\n",
    "    print('SPACE:', estimator._input_kwargs_processed())\n",
    "    success = False\n",
    "    attempts = 0\n",
    "    model = None\n",
    "    while not success and attempts < 2:\n",
    "        try:\n",
    "            model = estimator.fit(train_df)\n",
    "            success = True\n",
    "        except Exception as e:\n",
    "            attempts += 1\n",
    "            print(e)\n",
    "            print('Try again')\n",
    "        \n",
    "    log_loss = logloss(model, val_df, probabilities_col='probabilities')\n",
    "    roc_auc = rocauc(model, val_df, probabilities_col='probabilities')\n",
    "    \n",
    "    print('LOG-LOSS: {}, ROC-AUC: {}'.format(log_loss, roc_auc))\n",
    "\n",
    "    return {'loss': log_loss, 'rocauc': roc_auc, 'status': STATUS_OK }"
   ]
  },
  {
   "cell_type": "code",
   "execution_count": 12,
   "metadata": {},
   "outputs": [],
   "source": [
    "static_params = {\n",
    "    'featuresCol': \"features\", \n",
    "    'labelCol': \"label\", \n",
    "    'predictionCol': \"prediction\",\n",
    "    'eval_metric': 'logloss',\n",
    "    'objective': 'binary:logistic',\n",
    "    'nthread': 1,\n",
    "    'silent': 0,\n",
    "    'nworkers': 1\n",
    "}"
   ]
  },
  {
   "cell_type": "markdown",
   "metadata": {},
   "source": [
    "Fix baseline parameters and train baseline model"
   ]
  },
  {
   "cell_type": "code",
   "execution_count": 13,
   "metadata": {},
   "outputs": [],
   "source": [
    "CONTROL_NAME = 'xgb baseline'\n",
    "\n",
    "baseline_params = {\n",
    "    'colsample_bytree': 0.9,\n",
    "    'eta': 0.15,\n",
    "    'gamma': 0.9,\n",
    "    'max_depth': 6,\n",
    "    'min_child_weight': 50.0,\n",
    "    'subsample': 0.9,\n",
    "    'num_round': 20\n",
    "}\n",
    "\n",
    "baseline_model = XGBoostEstimator(**{**static_params, **baseline_params}).fit(train_df)"
   ]
  },
  {
   "cell_type": "code",
   "execution_count": 14,
   "metadata": {},
   "outputs": [
    {
     "data": {
      "text/plain": [
       "0.7241966892958183"
      ]
     },
     "execution_count": 14,
     "metadata": {},
     "output_type": "execute_result"
    }
   ],
   "source": [
    "baseline_rocauc = rocauc(baseline_model, val_df, probabilities_col='probabilities')\n",
    "baseline_rocauc"
   ]
  },
  {
   "cell_type": "code",
   "execution_count": 15,
   "metadata": {},
   "outputs": [],
   "source": [
    "all_metrics = {}"
   ]
  },
  {
   "cell_type": "code",
   "execution_count": 16,
   "metadata": {},
   "outputs": [],
   "source": [
    "baseline_test_metrics = {\n",
    "    'logloss': logloss(baseline_model, test_df, probabilities_col='probabilities'),\n",
    "    'rocauc': rocauc(baseline_model, test_df, probabilities_col='probabilities')\n",
    "}\n",
    "\n",
    "all_metrics[CONTROL_NAME] = baseline_test_metrics"
   ]
  },
  {
   "cell_type": "markdown",
   "metadata": {},
   "source": [
    "### Tune number of trees\n",
    "\n",
    "> Choose a relatively high learning rate. Generally a learning rate of 0.1 works but somewhere between 0.05 to 0.3 should work for different problems. Determine the optimum number of trees for this learning rate."
   ]
  },
  {
   "cell_type": "code",
   "execution_count": 45,
   "metadata": {
    "scrolled": true
   },
   "outputs": [
    {
     "name": "stdout",
     "output_type": "stream",
     "text": [
      "SPACE:                                                \n",
      "{'gamma': 3.0, 'nthread': 1, 'objective': 'binary:logistic', 'silent': 0, 'subsample': 1.0, 'min_child_weight': 100.0, 'eta': 0.1, 'featuresCol': 'features', 'max_depth': 6, 'colsample_bytree': 1.0, 'predictionCol': 'prediction', 'num_round': 40, 'nworkers': 1, 'labelCol': 'label', 'eval_metric': 'logloss'}\n",
      "LOG-LOSS: 0.5092394095053826, ROC-AUC: 0.7267305995939046\n",
      "SPACE:                                                                           \n",
      "{'gamma': 3.0, 'nthread': 1, 'objective': 'binary:logistic', 'silent': 0, 'subsample': 1.0, 'min_child_weight': 100.0, 'eta': 0.5, 'featuresCol': 'features', 'max_depth': 6, 'colsample_bytree': 1.0, 'predictionCol': 'prediction', 'num_round': 40, 'nworkers': 1, 'labelCol': 'label', 'eval_metric': 'logloss'}\n",
      "LOG-LOSS: 0.5037994502941576, ROC-AUC: 0.7340043146850984                        \n",
      "SPACE:                                                                           \n",
      "{'gamma': 3.0, 'nthread': 1, 'objective': 'binary:logistic', 'silent': 0, 'subsample': 1.0, 'min_child_weight': 100.0, 'eta': 0.1, 'featuresCol': 'features', 'max_depth': 6, 'colsample_bytree': 1.0, 'predictionCol': 'prediction', 'num_round': 100, 'nworkers': 1, 'labelCol': 'label', 'eval_metric': 'logloss'}\n",
      "LOG-LOSS: 0.5052252879906124, ROC-AUC: 0.7324422630654309                        \n",
      "SPACE:                                                                           \n",
      "{'gamma': 3.0, 'nthread': 1, 'objective': 'binary:logistic', 'silent': 0, 'subsample': 1.0, 'min_child_weight': 100.0, 'eta': 0.3, 'featuresCol': 'features', 'max_depth': 6, 'colsample_bytree': 1.0, 'predictionCol': 'prediction', 'num_round': 20, 'nworkers': 1, 'labelCol': 'label', 'eval_metric': 'logloss'}\n",
      "LOG-LOSS: 0.5071280586673239, ROC-AUC: 0.7295937976464806                        \n",
      "SPACE:                                                                           \n",
      "{'gamma': 3.0, 'nthread': 1, 'objective': 'binary:logistic', 'silent': 0, 'subsample': 1.0, 'min_child_weight': 100.0, 'eta': 0.5, 'featuresCol': 'features', 'max_depth': 6, 'colsample_bytree': 1.0, 'predictionCol': 'prediction', 'num_round': 10, 'nworkers': 1, 'labelCol': 'label', 'eval_metric': 'logloss'}\n",
      "LOG-LOSS: 0.50895024759977, ROC-AUC: 0.7264070315704897                          \n",
      "SPACE:                                                                           \n",
      "{'gamma': 3.0, 'nthread': 1, 'objective': 'binary:logistic', 'silent': 0, 'subsample': 1.0, 'min_child_weight': 100.0, 'eta': 0.2, 'featuresCol': 'features', 'max_depth': 6, 'colsample_bytree': 1.0, 'predictionCol': 'prediction', 'num_round': 40, 'nworkers': 1, 'labelCol': 'label', 'eval_metric': 'logloss'}\n",
      "LOG-LOSS: 0.5062957992921714, ROC-AUC: 0.7309534927275652                        \n",
      "SPACE:                                                                           \n",
      "{'gamma': 3.0, 'nthread': 1, 'objective': 'binary:logistic', 'silent': 0, 'subsample': 1.0, 'min_child_weight': 100.0, 'eta': 0.2, 'featuresCol': 'features', 'max_depth': 6, 'colsample_bytree': 1.0, 'predictionCol': 'prediction', 'num_round': 20, 'nworkers': 1, 'labelCol': 'label', 'eval_metric': 'logloss'}\n",
      "LOG-LOSS: 0.5094040076934003, ROC-AUC: 0.726362651752873                         \n",
      "SPACE:                                                                           \n",
      "{'gamma': 3.0, 'nthread': 1, 'objective': 'binary:logistic', 'silent': 0, 'subsample': 1.0, 'min_child_weight': 100.0, 'eta': 0.2, 'featuresCol': 'features', 'max_depth': 6, 'colsample_bytree': 1.0, 'predictionCol': 'prediction', 'num_round': 10, 'nworkers': 1, 'labelCol': 'label', 'eval_metric': 'logloss'}\n",
      "LOG-LOSS: 0.5172744485282739, ROC-AUC: 0.7208762944896152                        \n",
      "SPACE:                                                                           \n",
      "{'gamma': 3.0, 'nthread': 1, 'objective': 'binary:logistic', 'silent': 0, 'subsample': 1.0, 'min_child_weight': 100.0, 'eta': 0.5, 'featuresCol': 'features', 'max_depth': 6, 'colsample_bytree': 1.0, 'predictionCol': 'prediction', 'num_round': 20, 'nworkers': 1, 'labelCol': 'label', 'eval_metric': 'logloss'}\n",
      "LOG-LOSS: 0.5058882897414961, ROC-AUC: 0.7311362395972378                       \n",
      "SPACE:                                                                          \n",
      "{'gamma': 3.0, 'nthread': 1, 'objective': 'binary:logistic', 'silent': 0, 'subsample': 1.0, 'min_child_weight': 100.0, 'eta': 0.5, 'featuresCol': 'features', 'max_depth': 6, 'colsample_bytree': 1.0, 'predictionCol': 'prediction', 'num_round': 10, 'nworkers': 1, 'labelCol': 'label', 'eval_metric': 'logloss'}\n",
      "LOG-LOSS: 0.50895024759977, ROC-AUC: 0.7264070315704901                         \n",
      "SPACE:                                                                           \n",
      "{'gamma': 3.0, 'nthread': 1, 'objective': 'binary:logistic', 'silent': 0, 'subsample': 1.0, 'min_child_weight': 100.0, 'eta': 0.3, 'featuresCol': 'features', 'max_depth': 6, 'colsample_bytree': 1.0, 'predictionCol': 'prediction', 'num_round': 10, 'nworkers': 1, 'labelCol': 'label', 'eval_metric': 'logloss'}\n",
      "LOG-LOSS: 0.51111808033966, ROC-AUC: 0.7241940473369235                          \n",
      "SPACE:                                                                           \n",
      "{'gamma': 3.0, 'nthread': 1, 'objective': 'binary:logistic', 'silent': 0, 'subsample': 1.0, 'min_child_weight': 100.0, 'eta': 0.3, 'featuresCol': 'features', 'max_depth': 6, 'colsample_bytree': 1.0, 'predictionCol': 'prediction', 'num_round': 20, 'nworkers': 1, 'labelCol': 'label', 'eval_metric': 'logloss'}\n",
      "LOG-LOSS: 0.5071280586673239, ROC-AUC: 0.72959379764648                          \n",
      "SPACE:                                                                           \n",
      "{'gamma': 3.0, 'nthread': 1, 'objective': 'binary:logistic', 'silent': 0, 'subsample': 1.0, 'min_child_weight': 100.0, 'eta': 0.15, 'featuresCol': 'features', 'max_depth': 6, 'colsample_bytree': 1.0, 'predictionCol': 'prediction', 'num_round': 10, 'nworkers': 1, 'labelCol': 'label', 'eval_metric': 'logloss'}\n",
      "LOG-LOSS: 0.5256122232437977, ROC-AUC: 0.7190429601735604                        \n",
      "SPACE:                                                                           \n",
      "{'gamma': 3.0, 'nthread': 1, 'objective': 'binary:logistic', 'silent': 0, 'subsample': 1.0, 'min_child_weight': 100.0, 'eta': 0.1, 'featuresCol': 'features', 'max_depth': 6, 'colsample_bytree': 1.0, 'predictionCol': 'prediction', 'num_round': 20, 'nworkers': 1, 'labelCol': 'label', 'eval_metric': 'logloss'}\n",
      "LOG-LOSS: 0.5177479468308027, ROC-AUC: 0.7213805022189317                        \n",
      "SPACE:                                                                           \n",
      "{'gamma': 3.0, 'nthread': 1, 'objective': 'binary:logistic', 'silent': 0, 'subsample': 1.0, 'min_child_weight': 100.0, 'eta': 0.3, 'featuresCol': 'features', 'max_depth': 6, 'colsample_bytree': 1.0, 'predictionCol': 'prediction', 'num_round': 100, 'nworkers': 1, 'labelCol': 'label', 'eval_metric': 'logloss'}\n",
      "LOG-LOSS: 0.501821839869757, ROC-AUC: 0.7370586785416833                         \n",
      "SPACE:                                                                           \n",
      "{'gamma': 3.0, 'nthread': 1, 'objective': 'binary:logistic', 'silent': 0, 'subsample': 1.0, 'min_child_weight': 100.0, 'eta': 0.2, 'featuresCol': 'features', 'max_depth': 6, 'colsample_bytree': 1.0, 'predictionCol': 'prediction', 'num_round': 20, 'nworkers': 1, 'labelCol': 'label', 'eval_metric': 'logloss'}\n",
      "LOG-LOSS: 0.5094040076934003, ROC-AUC: 0.7263626517528715                        \n",
      "SPACE:                                                                           \n",
      "{'gamma': 3.0, 'nthread': 1, 'objective': 'binary:logistic', 'silent': 0, 'subsample': 1.0, 'min_child_weight': 100.0, 'eta': 0.2, 'featuresCol': 'features', 'max_depth': 6, 'colsample_bytree': 1.0, 'predictionCol': 'prediction', 'num_round': 10, 'nworkers': 1, 'labelCol': 'label', 'eval_metric': 'logloss'}\n",
      "LOG-LOSS: 0.5172744485282739, ROC-AUC: 0.7208762944896149                        \n",
      "SPACE:                                                                           \n",
      "{'gamma': 3.0, 'nthread': 1, 'objective': 'binary:logistic', 'silent': 0, 'subsample': 1.0, 'min_child_weight': 100.0, 'eta': 0.2, 'featuresCol': 'features', 'max_depth': 6, 'colsample_bytree': 1.0, 'predictionCol': 'prediction', 'num_round': 10, 'nworkers': 1, 'labelCol': 'label', 'eval_metric': 'logloss'}\n"
     ]
    },
    {
     "name": "stdout",
     "output_type": "stream",
     "text": [
      "LOG-LOSS: 0.5172744485282739, ROC-AUC: 0.7208762944896147                       \n",
      "SPACE:                                                                          \n",
      "{'gamma': 3.0, 'nthread': 1, 'objective': 'binary:logistic', 'silent': 0, 'subsample': 1.0, 'min_child_weight': 100.0, 'eta': 0.3, 'featuresCol': 'features', 'max_depth': 6, 'colsample_bytree': 1.0, 'predictionCol': 'prediction', 'num_round': 100, 'nworkers': 1, 'labelCol': 'label', 'eval_metric': 'logloss'}\n",
      "LOG-LOSS: 0.501821839869757, ROC-AUC: 0.7370586785416808                        \n",
      "SPACE:                                                                           \n",
      "{'gamma': 3.0, 'nthread': 1, 'objective': 'binary:logistic', 'silent': 0, 'subsample': 1.0, 'min_child_weight': 100.0, 'eta': 0.2, 'featuresCol': 'features', 'max_depth': 6, 'colsample_bytree': 1.0, 'predictionCol': 'prediction', 'num_round': 100, 'nworkers': 1, 'labelCol': 'label', 'eval_metric': 'logloss'}\n",
      "LOG-LOSS: 0.503361131047961, ROC-AUC: 0.7350613631718605                         \n",
      "100%|██████████| 20/20 [35:53<00:00, 107.66s/trial, best loss: 0.501821839869757]\n",
      "CPU times: user 4.18 s, sys: 1.06 s, total: 5.23 s\n",
      "Wall time: 35min 53s\n"
     ]
    }
   ],
   "source": [
    "%%time\n",
    "\n",
    "num_round_choice = [10, 20, 40, 100]\n",
    "eta_choice = [0.5, 0.10, 0.15, 0.20, 0.30]\n",
    "\n",
    "space = {\n",
    "    # Optimize\n",
    "    'num_round': hp.choice('num_round', num_round_choice),\n",
    "    'eta': hp.choice('eta', eta_choice),\n",
    "    \n",
    "    # Fixed    \n",
    "    'max_depth': baseline_params['max_depth'],\n",
    "    'min_child_weight': baseline_params['min_child_weight'],\n",
    "    'subsample': baseline_params['subsample'],\n",
    "    'gamma': baseline_params['gamma'],\n",
    "    'colsample_bytree': baseline_params['colsample_bytree'],\n",
    "    \n",
    "    **static_params\n",
    "}\n",
    "\n",
    "\n",
    "trials = Trials()\n",
    "best = fmin(fn=objective,\n",
    "            space=space,\n",
    "            algo=tpe.suggest,\n",
    "            max_evals=20,\n",
    "            trials=trials)"
   ]
  },
  {
   "cell_type": "code",
   "execution_count": 46,
   "metadata": {},
   "outputs": [
    {
     "data": {
      "text/plain": [
       "{'eta': 4, 'num_round': 3}"
      ]
     },
     "execution_count": 46,
     "metadata": {},
     "output_type": "execute_result"
    }
   ],
   "source": [
    "best"
   ]
  },
  {
   "cell_type": "markdown",
   "metadata": {},
   "source": [
    "Обратите внимание на то, что в случае с `hp.choice` в переменной `best` хранится не конкретное значение гиперпараметра, а его индекс из списка, например, `num_round_choice`"
   ]
  },
  {
   "cell_type": "code",
   "execution_count": 47,
   "metadata": {},
   "outputs": [],
   "source": [
    "eta = eta_choice[best['eta']]  # change me!\n",
    "num_round = num_round_choice[best['num_round']]  # change me!"
   ]
  },
  {
   "cell_type": "code",
   "execution_count": 48,
   "metadata": {},
   "outputs": [],
   "source": [
    "current_params = baseline_params\n",
    "current_params['eta'] = eta\n",
    "current_params['num_round'] = num_round"
   ]
  },
  {
   "cell_type": "code",
   "execution_count": 49,
   "metadata": {},
   "outputs": [],
   "source": [
    "model = XGBoostEstimator(**{**static_params, **current_params}).fit(train_df)"
   ]
  },
  {
   "cell_type": "code",
   "execution_count": 50,
   "metadata": {},
   "outputs": [],
   "source": [
    "CURRENT_NAME = \"opt-model-1\"\n",
    "\n",
    "current_test_metrics = {\n",
    "    'logloss': logloss(model, test_df, probabilities_col='probabilities'),\n",
    "    'rocauc': rocauc(model, test_df, probabilities_col='probabilities')\n",
    "}\n",
    "\n",
    "all_metrics[CURRENT_NAME] = current_test_metrics"
   ]
  },
  {
   "cell_type": "code",
   "execution_count": 51,
   "metadata": {},
   "outputs": [
    {
     "data": {
      "text/plain": [
       "{'opt-model-1': {'logloss': 0.5038050594301458, 'rocauc': 0.7371370245588844},\n",
       " 'opt-model-2': {'logloss': 0.5042451682962059, 'rocauc': 0.7365672720796711},\n",
       " 'opt-model-3': {'logloss': 0.5042492745165619, 'rocauc': 0.7366437850705707},\n",
       " 'opt-model-4': {'logloss': 0.5040673148590921, 'rocauc': 0.7367384318514827},\n",
       " 'opt-model-5': {'logloss': 0.5038050594301458, 'rocauc': 0.7371370245588867},\n",
       " 'xgb baseline': {'logloss': 0.513826416019165, 'rocauc': 0.7240490284428945}}"
      ]
     },
     "execution_count": 51,
     "metadata": {},
     "output_type": "execute_result"
    }
   ],
   "source": [
    "all_metrics"
   ]
  },
  {
   "cell_type": "markdown",
   "metadata": {},
   "source": [
    "### Tune tree-specific parameters\n",
    "\n",
    "> Tune tree-specific parameters ( max_depth, min_child_weight, gamma, subsample, colsample_bytree) for decided learning rate and number of trees. Note that we can choose different parameters to define a tree and I’ll take up an example here."
   ]
  },
  {
   "cell_type": "markdown",
   "metadata": {},
   "source": [
    "#### Tune max_depth, min_child_weight"
   ]
  },
  {
   "cell_type": "code",
   "execution_count": 52,
   "metadata": {},
   "outputs": [
    {
     "name": "stdout",
     "output_type": "stream",
     "text": [
      "SPACE:                                                \n",
      "{'gamma': 3.0, 'nthread': 1, 'objective': 'binary:logistic', 'silent': 0, 'subsample': 1.0, 'min_child_weight': 500.0, 'eta': 0.3, 'featuresCol': 'features', 'max_depth': 6, 'colsample_bytree': 1.0, 'predictionCol': 'prediction', 'num_round': 100, 'nworkers': 1, 'labelCol': 'label', 'eval_metric': 'logloss'}\n",
      "LOG-LOSS: 0.5031009494559164, ROC-AUC: 0.7353114406860606\n",
      "SPACE:                                                                             \n",
      "{'gamma': 3.0, 'nthread': 1, 'objective': 'binary:logistic', 'silent': 0, 'subsample': 1.0, 'min_child_weight': 500.0, 'eta': 0.3, 'featuresCol': 'features', 'max_depth': 4, 'colsample_bytree': 1.0, 'predictionCol': 'prediction', 'num_round': 100, 'nworkers': 1, 'labelCol': 'label', 'eval_metric': 'logloss'}\n",
      "LOG-LOSS: 0.5049244223559074, ROC-AUC: 0.732759323206161                           \n",
      "SPACE:                                                                             \n",
      "{'gamma': 3.0, 'nthread': 1, 'objective': 'binary:logistic', 'silent': 0, 'subsample': 1.0, 'min_child_weight': 10.0, 'eta': 0.3, 'featuresCol': 'features', 'max_depth': 6, 'colsample_bytree': 1.0, 'predictionCol': 'prediction', 'num_round': 100, 'nworkers': 1, 'labelCol': 'label', 'eval_metric': 'logloss'}\n",
      "LOG-LOSS: 0.5021069772007062, ROC-AUC: 0.7366529498012412                          \n",
      "SPACE:                                                                             \n",
      "{'gamma': 3.0, 'nthread': 1, 'objective': 'binary:logistic', 'silent': 0, 'subsample': 1.0, 'min_child_weight': 10.0, 'eta': 0.3, 'featuresCol': 'features', 'max_depth': 4, 'colsample_bytree': 1.0, 'predictionCol': 'prediction', 'num_round': 100, 'nworkers': 1, 'labelCol': 'label', 'eval_metric': 'logloss'}\n",
      "LOG-LOSS: 0.5043250850657147, ROC-AUC: 0.7336738775685587                          \n",
      "SPACE:                                                                             \n",
      "{'gamma': 3.0, 'nthread': 1, 'objective': 'binary:logistic', 'silent': 0, 'subsample': 1.0, 'min_child_weight': 100.0, 'eta': 0.3, 'featuresCol': 'features', 'max_depth': 6, 'colsample_bytree': 1.0, 'predictionCol': 'prediction', 'num_round': 100, 'nworkers': 1, 'labelCol': 'label', 'eval_metric': 'logloss'}\n",
      "LOG-LOSS: 0.501821839869757, ROC-AUC: 0.7370586785416822                           \n",
      "SPACE:                                                                             \n",
      "{'gamma': 3.0, 'nthread': 1, 'objective': 'binary:logistic', 'silent': 0, 'subsample': 1.0, 'min_child_weight': 500.0, 'eta': 0.3, 'featuresCol': 'features', 'max_depth': 6, 'colsample_bytree': 1.0, 'predictionCol': 'prediction', 'num_round': 100, 'nworkers': 1, 'labelCol': 'label', 'eval_metric': 'logloss'}\n",
      "LOG-LOSS: 0.5031009494559164, ROC-AUC: 0.7353114406860592                       \n",
      "SPACE:                                                                          \n",
      "{'gamma': 3.0, 'nthread': 1, 'objective': 'binary:logistic', 'silent': 0, 'subsample': 1.0, 'min_child_weight': 500.0, 'eta': 0.3, 'featuresCol': 'features', 'max_depth': 4, 'colsample_bytree': 1.0, 'predictionCol': 'prediction', 'num_round': 100, 'nworkers': 1, 'labelCol': 'label', 'eval_metric': 'logloss'}\n",
      "LOG-LOSS: 0.5049244223559074, ROC-AUC: 0.7327593232061603                       \n",
      "SPACE:                                                                          \n",
      "{'gamma': 3.0, 'nthread': 1, 'objective': 'binary:logistic', 'silent': 0, 'subsample': 1.0, 'min_child_weight': 10.0, 'eta': 0.3, 'featuresCol': 'features', 'max_depth': 6, 'colsample_bytree': 1.0, 'predictionCol': 'prediction', 'num_round': 100, 'nworkers': 1, 'labelCol': 'label', 'eval_metric': 'logloss'}\n",
      "LOG-LOSS: 0.5021069772007062, ROC-AUC: 0.7366529498012445                       \n",
      "SPACE:                                                                          \n",
      "{'gamma': 3.0, 'nthread': 1, 'objective': 'binary:logistic', 'silent': 0, 'subsample': 1.0, 'min_child_weight': 10.0, 'eta': 0.3, 'featuresCol': 'features', 'max_depth': 6, 'colsample_bytree': 1.0, 'predictionCol': 'prediction', 'num_round': 100, 'nworkers': 1, 'labelCol': 'label', 'eval_metric': 'logloss'}\n",
      "LOG-LOSS: 0.5021069772007062, ROC-AUC: 0.7366529498012425                       \n",
      "SPACE:                                                                          \n",
      "{'gamma': 3.0, 'nthread': 1, 'objective': 'binary:logistic', 'silent': 0, 'subsample': 1.0, 'min_child_weight': 10.0, 'eta': 0.3, 'featuresCol': 'features', 'max_depth': 4, 'colsample_bytree': 1.0, 'predictionCol': 'prediction', 'num_round': 100, 'nworkers': 1, 'labelCol': 'label', 'eval_metric': 'logloss'}\n",
      "LOG-LOSS: 0.5043250850657147, ROC-AUC: 0.7336738775685576                       \n",
      "SPACE:                                                                           \n",
      "{'gamma': 3.0, 'nthread': 1, 'objective': 'binary:logistic', 'silent': 0, 'subsample': 1.0, 'min_child_weight': 50.0, 'eta': 0.3, 'featuresCol': 'features', 'max_depth': 2, 'colsample_bytree': 1.0, 'predictionCol': 'prediction', 'num_round': 100, 'nworkers': 1, 'labelCol': 'label', 'eval_metric': 'logloss'}\n",
      "LOG-LOSS: 0.5099004355413815, ROC-AUC: 0.7260184975116877                        \n",
      "SPACE:                                                                           \n",
      "{'gamma': 3.0, 'nthread': 1, 'objective': 'binary:logistic', 'silent': 0, 'subsample': 1.0, 'min_child_weight': 500.0, 'eta': 0.3, 'featuresCol': 'features', 'max_depth': 6, 'colsample_bytree': 1.0, 'predictionCol': 'prediction', 'num_round': 100, 'nworkers': 1, 'labelCol': 'label', 'eval_metric': 'logloss'}\n",
      "LOG-LOSS: 0.5031009494559164, ROC-AUC: 0.7353114406860592                        \n",
      "SPACE:                                                                           \n",
      "{'gamma': 3.0, 'nthread': 1, 'objective': 'binary:logistic', 'silent': 0, 'subsample': 1.0, 'min_child_weight': 100.0, 'eta': 0.3, 'featuresCol': 'features', 'max_depth': 2, 'colsample_bytree': 1.0, 'predictionCol': 'prediction', 'num_round': 100, 'nworkers': 1, 'labelCol': 'label', 'eval_metric': 'logloss'}\n",
      "LOG-LOSS: 0.5093518634164456, ROC-AUC: 0.7266821274980703                        \n",
      "SPACE:                                                                           \n",
      "{'gamma': 3.0, 'nthread': 1, 'objective': 'binary:logistic', 'silent': 0, 'subsample': 1.0, 'min_child_weight': 100.0, 'eta': 0.3, 'featuresCol': 'features', 'max_depth': 2, 'colsample_bytree': 1.0, 'predictionCol': 'prediction', 'num_round': 100, 'nworkers': 1, 'labelCol': 'label', 'eval_metric': 'logloss'}\n",
      "LOG-LOSS: 0.5093518634164456, ROC-AUC: 0.7266821274980692                        \n",
      "SPACE:                                                                           \n",
      "{'gamma': 3.0, 'nthread': 1, 'objective': 'binary:logistic', 'silent': 0, 'subsample': 1.0, 'min_child_weight': 50.0, 'eta': 0.3, 'featuresCol': 'features', 'max_depth': 4, 'colsample_bytree': 1.0, 'predictionCol': 'prediction', 'num_round': 100, 'nworkers': 1, 'labelCol': 'label', 'eval_metric': 'logloss'}\n",
      "LOG-LOSS: 0.5046576154008829, ROC-AUC: 0.7330445310973633                        \n",
      "SPACE:                                                                           \n",
      "{'gamma': 3.0, 'nthread': 1, 'objective': 'binary:logistic', 'silent': 0, 'subsample': 1.0, 'min_child_weight': 50.0, 'eta': 0.3, 'featuresCol': 'features', 'max_depth': 4, 'colsample_bytree': 1.0, 'predictionCol': 'prediction', 'num_round': 100, 'nworkers': 1, 'labelCol': 'label', 'eval_metric': 'logloss'}\n",
      "LOG-LOSS: 0.5046576154008829, ROC-AUC: 0.7330445310973629                        \n",
      "SPACE:                                                                           \n",
      "{'gamma': 3.0, 'nthread': 1, 'objective': 'binary:logistic', 'silent': 0, 'subsample': 1.0, 'min_child_weight': 100.0, 'eta': 0.3, 'featuresCol': 'features', 'max_depth': 6, 'colsample_bytree': 1.0, 'predictionCol': 'prediction', 'num_round': 100, 'nworkers': 1, 'labelCol': 'label', 'eval_metric': 'logloss'}\n",
      "LOG-LOSS: 0.501821839869757, ROC-AUC: 0.7370586785416817                         \n",
      "SPACE:                                                                           \n",
      "{'gamma': 3.0, 'nthread': 1, 'objective': 'binary:logistic', 'silent': 0, 'subsample': 1.0, 'min_child_weight': 500.0, 'eta': 0.3, 'featuresCol': 'features', 'max_depth': 2, 'colsample_bytree': 1.0, 'predictionCol': 'prediction', 'num_round': 100, 'nworkers': 1, 'labelCol': 'label', 'eval_metric': 'logloss'}\n"
     ]
    },
    {
     "name": "stdout",
     "output_type": "stream",
     "text": [
      "LOG-LOSS: 0.5105727205398666, ROC-AUC: 0.7250413813003515                        \n",
      "SPACE:                                                                             \n",
      "{'gamma': 3.0, 'nthread': 1, 'objective': 'binary:logistic', 'silent': 0, 'subsample': 1.0, 'min_child_weight': 10.0, 'eta': 0.3, 'featuresCol': 'features', 'max_depth': 4, 'colsample_bytree': 1.0, 'predictionCol': 'prediction', 'num_round': 100, 'nworkers': 1, 'labelCol': 'label', 'eval_metric': 'logloss'}\n",
      "LOG-LOSS: 0.5043250850657147, ROC-AUC: 0.7336738775685587                          \n",
      "SPACE:                                                                             \n",
      "{'gamma': 3.0, 'nthread': 1, 'objective': 'binary:logistic', 'silent': 0, 'subsample': 1.0, 'min_child_weight': 100.0, 'eta': 0.3, 'featuresCol': 'features', 'max_depth': 6, 'colsample_bytree': 1.0, 'predictionCol': 'prediction', 'num_round': 100, 'nworkers': 1, 'labelCol': 'label', 'eval_metric': 'logloss'}\n",
      "LOG-LOSS: 0.501821839869757, ROC-AUC: 0.7370586785416808                           \n",
      "100%|██████████| 20/20 [1:08:34<00:00, 205.71s/trial, best loss: 0.501821839869757]\n",
      "CPU times: user 4.44 s, sys: 1.16 s, total: 5.6 s\n",
      "Wall time: 1h 8min 34s\n"
     ]
    }
   ],
   "source": [
    "%%time\n",
    "\n",
    "max_depth_choice = [2, 4, 6]\n",
    "min_child_weight_choice = [10., 50., 100., 500.]\n",
    "\n",
    "space = {\n",
    "    # Optimize\n",
    "    'max_depth': hp.choice('max_depth', max_depth_choice),\n",
    "    'min_child_weight': hp.choice('min_child_weight', min_child_weight_choice),\n",
    "    \n",
    "    # Fixed    \n",
    "    'num_round': current_params['num_round'],\n",
    "    'eta': current_params['eta'],\n",
    "    'subsample': current_params['subsample'],\n",
    "    'gamma': current_params['gamma'],\n",
    "    'colsample_bytree': current_params['colsample_bytree'],\n",
    "    \n",
    "    **static_params\n",
    "}\n",
    "\n",
    "\n",
    "trials = Trials()\n",
    "best = fmin(fn=objective,\n",
    "            space=space,\n",
    "            algo=tpe.suggest,\n",
    "            max_evals=20,\n",
    "            trials=trials)"
   ]
  },
  {
   "cell_type": "code",
   "execution_count": 53,
   "metadata": {},
   "outputs": [],
   "source": [
    "current_params['max_depth'] = max_depth_choice[best['max_depth']]\n",
    "current_params['min_child_weight'] = min_child_weight_choice[best['min_child_weight']]"
   ]
  },
  {
   "cell_type": "code",
   "execution_count": 54,
   "metadata": {},
   "outputs": [],
   "source": [
    "model = XGBoostEstimator(**{**static_params, **current_params}).fit(train_df)\n",
    "\n",
    "CURRENT_NAME = \"opt-model-2\"\n",
    "\n",
    "current_test_metrics = {\n",
    "    'logloss': logloss(model, test_df, probabilities_col='probabilities'),\n",
    "    'rocauc': rocauc(model, test_df, probabilities_col='probabilities')\n",
    "}\n",
    "\n",
    "all_metrics[CURRENT_NAME] = current_test_metrics"
   ]
  },
  {
   "cell_type": "code",
   "execution_count": 55,
   "metadata": {},
   "outputs": [
    {
     "data": {
      "text/plain": [
       "{'opt-model-1': {'logloss': 0.5038050594301458, 'rocauc': 0.7371370245588844},\n",
       " 'opt-model-2': {'logloss': 0.5038050594301458, 'rocauc': 0.7371370245588866},\n",
       " 'opt-model-3': {'logloss': 0.5042492745165619, 'rocauc': 0.7366437850705707},\n",
       " 'opt-model-4': {'logloss': 0.5040673148590921, 'rocauc': 0.7367384318514827},\n",
       " 'opt-model-5': {'logloss': 0.5038050594301458, 'rocauc': 0.7371370245588867},\n",
       " 'xgb baseline': {'logloss': 0.513826416019165, 'rocauc': 0.7240490284428945}}"
      ]
     },
     "execution_count": 55,
     "metadata": {},
     "output_type": "execute_result"
    }
   ],
   "source": [
    "all_metrics"
   ]
  },
  {
   "cell_type": "markdown",
   "metadata": {},
   "source": [
    "#### Tune gamma"
   ]
  },
  {
   "cell_type": "code",
   "execution_count": 56,
   "metadata": {},
   "outputs": [
    {
     "name": "stdout",
     "output_type": "stream",
     "text": [
      "SPACE:                                                \n",
      "{'gamma': 50.0, 'nthread': 1, 'objective': 'binary:logistic', 'silent': 0, 'subsample': 1.0, 'min_child_weight': 100.0, 'eta': 0.3, 'featuresCol': 'features', 'max_depth': 6, 'colsample_bytree': 1.0, 'predictionCol': 'prediction', 'num_round': 100, 'nworkers': 1, 'labelCol': 'label', 'eval_metric': 'logloss'}\n",
      "LOG-LOSS: 0.501821839869757, ROC-AUC: 0.7370586785416824                           \n",
      "SPACE:                                                                             \n",
      "{'gamma': 0.1, 'nthread': 1, 'objective': 'binary:logistic', 'silent': 0, 'subsample': 1.0, 'min_child_weight': 100.0, 'eta': 0.3, 'featuresCol': 'features', 'max_depth': 6, 'colsample_bytree': 1.0, 'predictionCol': 'prediction', 'num_round': 100, 'nworkers': 1, 'labelCol': 'label', 'eval_metric': 'logloss'}\n",
      "LOG-LOSS: 0.5017008659080565, ROC-AUC: 0.7371983697748545                         \n",
      "SPACE:                                                                             \n",
      "{'gamma': 0.5, 'nthread': 1, 'objective': 'binary:logistic', 'silent': 0, 'subsample': 1.0, 'min_child_weight': 100.0, 'eta': 0.3, 'featuresCol': 'features', 'max_depth': 6, 'colsample_bytree': 1.0, 'predictionCol': 'prediction', 'num_round': 100, 'nworkers': 1, 'labelCol': 'label', 'eval_metric': 'logloss'}\n",
      "LOG-LOSS: 0.5016359947979476, ROC-AUC: 0.7372912365780174                          \n",
      "SPACE:                                                                             \n",
      "{'gamma': 50.0, 'nthread': 1, 'objective': 'binary:logistic', 'silent': 0, 'subsample': 1.0, 'min_child_weight': 100.0, 'eta': 0.3, 'featuresCol': 'features', 'max_depth': 6, 'colsample_bytree': 1.0, 'predictionCol': 'prediction', 'num_round': 100, 'nworkers': 1, 'labelCol': 'label', 'eval_metric': 'logloss'}\n",
      "LOG-LOSS: 0.5057412808835658, ROC-AUC: 0.7316882718357951                          \n",
      "SPACE:                                                                             \n",
      "{'gamma': 50.0, 'nthread': 1, 'objective': 'binary:logistic', 'silent': 0, 'subsample': 1.0, 'min_child_weight': 100.0, 'eta': 0.3, 'featuresCol': 'features', 'max_depth': 6, 'colsample_bytree': 1.0, 'predictionCol': 'prediction', 'num_round': 100, 'nworkers': 1, 'labelCol': 'label', 'eval_metric': 'logloss'}\n",
      "LOG-LOSS: 0.5057412808835658, ROC-AUC: 0.7316882718357934                          \n",
      "SPACE:                                                                             \n",
      "{'gamma': 100.0, 'nthread': 1, 'objective': 'binary:logistic', 'silent': 0, 'subsample': 1.0, 'min_child_weight': 100.0, 'eta': 0.3, 'featuresCol': 'features', 'max_depth': 6, 'colsample_bytree': 1.0, 'predictionCol': 'prediction', 'num_round': 100, 'nworkers': 1, 'labelCol': 'label', 'eval_metric': 'logloss'}\n",
      "LOG-LOSS: 0.5076430678890357, ROC-AUC: 0.7289186231985085                        \n",
      "SPACE:                                                                           \n",
      "{'gamma': 0.5, 'nthread': 1, 'objective': 'binary:logistic', 'silent': 0, 'subsample': 1.0, 'min_child_weight': 100.0, 'eta': 0.3, 'featuresCol': 'features', 'max_depth': 6, 'colsample_bytree': 1.0, 'predictionCol': 'prediction', 'num_round': 100, 'nworkers': 1, 'labelCol': 'label', 'eval_metric': 'logloss'}\n",
      "LOG-LOSS: 0.5016359947979476, ROC-AUC: 0.7372912365780141                        \n",
      "SPACE:                                                                           \n",
      "{'gamma': 0.1, 'nthread': 1, 'objective': 'binary:logistic', 'silent': 0, 'subsample': 1.0, 'min_child_weight': 100.0, 'eta': 0.3, 'featuresCol': 'features', 'max_depth': 6, 'colsample_bytree': 1.0, 'predictionCol': 'prediction', 'num_round': 100, 'nworkers': 1, 'labelCol': 'label', 'eval_metric': 'logloss'}\n",
      "LOG-LOSS: 0.5017008659080565, ROC-AUC: 0.7371983697748529                        \n",
      "SPACE:                                                                           \n",
      "{'gamma': 100.0, 'nthread': 1, 'objective': 'binary:logistic', 'silent': 0, 'subsample': 1.0, 'min_child_weight': 100.0, 'eta': 0.3, 'featuresCol': 'features', 'max_depth': 6, 'colsample_bytree': 1.0, 'predictionCol': 'prediction', 'num_round': 100, 'nworkers': 1, 'labelCol': 'label', 'eval_metric': 'logloss'}\n",
      "LOG-LOSS: 0.5076430678890357, ROC-AUC: 0.7289186231985076                        \n",
      "SPACE:                                                                            \n",
      "{'gamma': 0.5, 'nthread': 1, 'objective': 'binary:logistic', 'silent': 0, 'subsample': 1.0, 'min_child_weight': 100.0, 'eta': 0.3, 'featuresCol': 'features', 'max_depth': 6, 'colsample_bytree': 1.0, 'predictionCol': 'prediction', 'num_round': 100, 'nworkers': 1, 'labelCol': 'label', 'eval_metric': 'logloss'}\n",
      "LOG-LOSS: 0.5016359947979476, ROC-AUC: 0.7372912365780141                         \n",
      "SPACE:                                                                            \n",
      "{'gamma': 10.0, 'nthread': 1, 'objective': 'binary:logistic', 'silent': 0, 'subsample': 1.0, 'min_child_weight': 100.0, 'eta': 0.3, 'featuresCol': 'features', 'max_depth': 6, 'colsample_bytree': 1.0, 'predictionCol': 'prediction', 'num_round': 100, 'nworkers': 1, 'labelCol': 'label', 'eval_metric': 'logloss'}\n",
      "LOG-LOSS: 0.502026080369285, ROC-AUC: 0.7368055038909676                          \n",
      "SPACE:                                                                            \n",
      "{'gamma': 100.0, 'nthread': 1, 'objective': 'binary:logistic', 'silent': 0, 'subsample': 1.0, 'min_child_weight': 100.0, 'eta': 0.3, 'featuresCol': 'features', 'max_depth': 6, 'colsample_bytree': 1.0, 'predictionCol': 'prediction', 'num_round': 100, 'nworkers': 1, 'labelCol': 'label', 'eval_metric': 'logloss'}\n",
      "LOG-LOSS: 0.5076430678890357, ROC-AUC: 0.7289186231985073                         \n",
      "SPACE:                                                                            \n",
      "{'gamma': 100.0, 'nthread': 1, 'objective': 'binary:logistic', 'silent': 0, 'subsample': 1.0, 'min_child_weight': 100.0, 'eta': 0.3, 'featuresCol': 'features', 'max_depth': 6, 'colsample_bytree': 1.0, 'predictionCol': 'prediction', 'num_round': 100, 'nworkers': 1, 'labelCol': 'label', 'eval_metric': 'logloss'}\n",
      "LOG-LOSS: 0.5076430678890357, ROC-AUC: 0.728918623198507                          \n",
      "SPACE:                                                                            \n",
      "{'gamma': 100.0, 'nthread': 1, 'objective': 'binary:logistic', 'silent': 0, 'subsample': 1.0, 'min_child_weight': 100.0, 'eta': 0.3, 'featuresCol': 'features', 'max_depth': 6, 'colsample_bytree': 1.0, 'predictionCol': 'prediction', 'num_round': 100, 'nworkers': 1, 'labelCol': 'label', 'eval_metric': 'logloss'}\n",
      "LOG-LOSS: 0.5076430678890357, ROC-AUC: 0.7289186231985082                         \n",
      "SPACE:                                                                              \n",
      "{'gamma': 3.0, 'nthread': 1, 'objective': 'binary:logistic', 'silent': 0, 'subsample': 1.0, 'min_child_weight': 100.0, 'eta': 0.3, 'featuresCol': 'features', 'max_depth': 6, 'colsample_bytree': 1.0, 'predictionCol': 'prediction', 'num_round': 100, 'nworkers': 1, 'labelCol': 'label', 'eval_metric': 'logloss'}\n",
      "LOG-LOSS: 0.501821839869757, ROC-AUC: 0.7370586785416811                            \n",
      "SPACE:                                                                              \n",
      "{'gamma': 100.0, 'nthread': 1, 'objective': 'binary:logistic', 'silent': 0, 'subsample': 1.0, 'min_child_weight': 100.0, 'eta': 0.3, 'featuresCol': 'features', 'max_depth': 6, 'colsample_bytree': 1.0, 'predictionCol': 'prediction', 'num_round': 100, 'nworkers': 1, 'labelCol': 'label', 'eval_metric': 'logloss'}\n",
      "LOG-LOSS: 0.5076430678890357, ROC-AUC: 0.7289186231985073                           \n",
      "SPACE:                                                                              \n",
      "{'gamma': 0.5, 'nthread': 1, 'objective': 'binary:logistic', 'silent': 0, 'subsample': 1.0, 'min_child_weight': 100.0, 'eta': 0.3, 'featuresCol': 'features', 'max_depth': 6, 'colsample_bytree': 1.0, 'predictionCol': 'prediction', 'num_round': 100, 'nworkers': 1, 'labelCol': 'label', 'eval_metric': 'logloss'}\n",
      "LOG-LOSS: 0.5016359947979476, ROC-AUC: 0.7372912365780154                           \n",
      "SPACE:                                                                              \n",
      "{'gamma': 0.1, 'nthread': 1, 'objective': 'binary:logistic', 'silent': 0, 'subsample': 1.0, 'min_child_weight': 100.0, 'eta': 0.3, 'featuresCol': 'features', 'max_depth': 6, 'colsample_bytree': 1.0, 'predictionCol': 'prediction', 'num_round': 100, 'nworkers': 1, 'labelCol': 'label', 'eval_metric': 'logloss'}\n",
      "LOG-LOSS: 0.5017008659080565, ROC-AUC: 0.7371983697748536                           \n",
      "SPACE:                                                                              \n",
      "{'gamma': 50.0, 'nthread': 1, 'objective': 'binary:logistic', 'silent': 0, 'subsample': 1.0, 'min_child_weight': 100.0, 'eta': 0.3, 'featuresCol': 'features', 'max_depth': 6, 'colsample_bytree': 1.0, 'predictionCol': 'prediction', 'num_round': 100, 'nworkers': 1, 'labelCol': 'label', 'eval_metric': 'logloss'}\n",
      "LOG-LOSS: 0.5057412808835658, ROC-AUC: 0.7316882718357914                           \n",
      "100%|██████████| 20/20 [1:23:32<00:00, 250.63s/trial, best loss: 0.5016359947979476]\n",
      "CPU times: user 4.69 s, sys: 1.07 s, total: 5.77 s\n",
      "Wall time: 1h 23min 32s\n"
     ]
    }
   ],
   "source": [
    "%%time\n",
    "\n",
    "gamma_choice = [.1, .5, 1., 3., 10., 50., 100.]\n",
    "\n",
    "space = {\n",
    "    # Optimize\n",
    "    'gamma': hp.choice('gamma', gamma_choice),\n",
    "    \n",
    "    # Fixed\n",
    "    'num_round': current_params['num_round'],\n",
    "    'eta': current_params['eta'],\n",
    "    'max_depth': current_params['max_depth'],\n",
    "    'min_child_weight': current_params['min_child_weight'],\n",
    "    'subsample': current_params['subsample'],\n",
    "    'colsample_bytree': current_params['colsample_bytree'],\n",
    "\n",
    "    \n",
    "    **static_params\n",
    "}\n",
    "\n",
    "\n",
    "trials = Trials()\n",
    "best = fmin(fn=objective,\n",
    "            space=space,\n",
    "            algo=tpe.suggest,\n",
    "            max_evals=20,\n",
    "            trials=trials)"
   ]
  },
  {
   "cell_type": "code",
   "execution_count": 57,
   "metadata": {},
   "outputs": [],
   "source": [
    "current_params['gamma'] = gamma_choice[best['gamma']]"
   ]
  },
  {
   "cell_type": "code",
   "execution_count": 58,
   "metadata": {},
   "outputs": [],
   "source": [
    "model = XGBoostEstimator(**{**static_params, **current_params}).fit(train_df)\n",
    "\n",
    "CURRENT_NAME = \"opt-model-3\"\n",
    "\n",
    "current_test_metrics = {\n",
    "    'logloss': logloss(model, test_df, probabilities_col='probabilities'),\n",
    "    'rocauc': rocauc(model, test_df, probabilities_col='probabilities')\n",
    "}\n",
    "\n",
    "all_metrics[CURRENT_NAME] = current_test_metrics"
   ]
  },
  {
   "cell_type": "code",
   "execution_count": 59,
   "metadata": {},
   "outputs": [
    {
     "data": {
      "text/plain": [
       "{'opt-model-1': {'logloss': 0.5038050594301458, 'rocauc': 0.7371370245588844},\n",
       " 'opt-model-2': {'logloss': 0.5038050594301458, 'rocauc': 0.7371370245588866},\n",
       " 'opt-model-3': {'logloss': 0.5040476600477894, 'rocauc': 0.7368304724249373},\n",
       " 'opt-model-4': {'logloss': 0.5040673148590921, 'rocauc': 0.7367384318514827},\n",
       " 'opt-model-5': {'logloss': 0.5038050594301458, 'rocauc': 0.7371370245588867},\n",
       " 'xgb baseline': {'logloss': 0.513826416019165, 'rocauc': 0.7240490284428945}}"
      ]
     },
     "execution_count": 59,
     "metadata": {},
     "output_type": "execute_result"
    }
   ],
   "source": [
    "all_metrics"
   ]
  },
  {
   "cell_type": "markdown",
   "metadata": {},
   "source": [
    "#### Tune subsample, colsample_bytree"
   ]
  },
  {
   "cell_type": "code",
   "execution_count": 60,
   "metadata": {},
   "outputs": [
    {
     "name": "stdout",
     "output_type": "stream",
     "text": [
      "SPACE:                                                \n",
      "{'gamma': 0.5, 'nthread': 1, 'objective': 'binary:logistic', 'silent': 0, 'subsample': 0.7, 'min_child_weight': 100.0, 'eta': 0.3, 'featuresCol': 'features', 'max_depth': 6, 'colsample_bytree': 0.7, 'predictionCol': 'prediction', 'num_round': 100, 'nworkers': 1, 'labelCol': 'label', 'eval_metric': 'logloss'}\n",
      "LOG-LOSS: 0.5021379949617328, ROC-AUC: 0.7366509276553932\n",
      "SPACE:                                                                             \n",
      "{'gamma': 0.5, 'nthread': 1, 'objective': 'binary:logistic', 'silent': 0, 'subsample': 1.0, 'min_child_weight': 100.0, 'eta': 0.3, 'featuresCol': 'features', 'max_depth': 6, 'colsample_bytree': 0.3, 'predictionCol': 'prediction', 'num_round': 100, 'nworkers': 1, 'labelCol': 'label', 'eval_metric': 'logloss'}\n",
      "LOG-LOSS: 0.5026733982549004, ROC-AUC: 0.7358527976208282                          \n",
      "SPACE:                                                                             \n",
      "{'gamma': 0.5, 'nthread': 1, 'objective': 'binary:logistic', 'silent': 0, 'subsample': 0.2, 'min_child_weight': 100.0, 'eta': 0.3, 'featuresCol': 'features', 'max_depth': 6, 'colsample_bytree': 0.3, 'predictionCol': 'prediction', 'num_round': 100, 'nworkers': 1, 'labelCol': 'label', 'eval_metric': 'logloss'}\n",
      "LOG-LOSS: 0.5045911178657955, ROC-AUC: 0.7331791082942906                        \n",
      "SPACE:                                                                           \n",
      "{'gamma': 0.5, 'nthread': 1, 'objective': 'binary:logistic', 'silent': 0, 'subsample': 0.2, 'min_child_weight': 100.0, 'eta': 0.3, 'featuresCol': 'features', 'max_depth': 6, 'colsample_bytree': 1.0, 'predictionCol': 'prediction', 'num_round': 100, 'nworkers': 1, 'labelCol': 'label', 'eval_metric': 'logloss'}\n",
      "LOG-LOSS: 0.5038021674949793, ROC-AUC: 0.734167343337568                         \n",
      "SPACE:                                                                           \n",
      "{'gamma': 0.5, 'nthread': 1, 'objective': 'binary:logistic', 'silent': 0, 'subsample': 0.5, 'min_child_weight': 100.0, 'eta': 0.3, 'featuresCol': 'features', 'max_depth': 6, 'colsample_bytree': 1.0, 'predictionCol': 'prediction', 'num_round': 100, 'nworkers': 1, 'labelCol': 'label', 'eval_metric': 'logloss'}\n",
      "LOG-LOSS: 0.5020439558780021, ROC-AUC: 0.7368166037443176                        \n",
      "SPACE:                                                                           \n",
      "{'gamma': 0.5, 'nthread': 1, 'objective': 'binary:logistic', 'silent': 0, 'subsample': 0.5, 'min_child_weight': 100.0, 'eta': 0.3, 'featuresCol': 'features', 'max_depth': 6, 'colsample_bytree': 1.0, 'predictionCol': 'prediction', 'num_round': 100, 'nworkers': 1, 'labelCol': 'label', 'eval_metric': 'logloss'}\n",
      "LOG-LOSS: 0.5020439558780021, ROC-AUC: 0.7368166037443168                        \n",
      "SPACE:                                                                           \n",
      "{'gamma': 0.5, 'nthread': 1, 'objective': 'binary:logistic', 'silent': 0, 'subsample': 1.0, 'min_child_weight': 100.0, 'eta': 0.3, 'featuresCol': 'features', 'max_depth': 6, 'colsample_bytree': 0.5, 'predictionCol': 'prediction', 'num_round': 100, 'nworkers': 1, 'labelCol': 'label', 'eval_metric': 'logloss'}\n",
      "LOG-LOSS: 0.5020101166739477, ROC-AUC: 0.736792271260466                         \n",
      "SPACE:                                                                           \n",
      "{'gamma': 0.5, 'nthread': 1, 'objective': 'binary:logistic', 'silent': 0, 'subsample': 0.7, 'min_child_weight': 100.0, 'eta': 0.3, 'featuresCol': 'features', 'max_depth': 6, 'colsample_bytree': 1.0, 'predictionCol': 'prediction', 'num_round': 100, 'nworkers': 1, 'labelCol': 'label', 'eval_metric': 'logloss'}\n",
      "LOG-LOSS: 0.5020021048233934, ROC-AUC: 0.7368524401866645                        \n",
      "SPACE:                                                                           \n",
      "{'gamma': 0.5, 'nthread': 1, 'objective': 'binary:logistic', 'silent': 0, 'subsample': 0.7, 'min_child_weight': 100.0, 'eta': 0.3, 'featuresCol': 'features', 'max_depth': 6, 'colsample_bytree': 0.7, 'predictionCol': 'prediction', 'num_round': 100, 'nworkers': 1, 'labelCol': 'label', 'eval_metric': 'logloss'}\n",
      "LOG-LOSS: 0.5021379949617328, ROC-AUC: 0.7366509276553946                        \n",
      "SPACE:                                                                           \n",
      "{'gamma': 0.5, 'nthread': 1, 'objective': 'binary:logistic', 'silent': 0, 'subsample': 1.0, 'min_child_weight': 100.0, 'eta': 0.3, 'featuresCol': 'features', 'max_depth': 6, 'colsample_bytree': 1.0, 'predictionCol': 'prediction', 'num_round': 100, 'nworkers': 1, 'labelCol': 'label', 'eval_metric': 'logloss'}\n",
      "LOG-LOSS: 0.5016359947979476, ROC-AUC: 0.7372912365780144                        \n",
      "SPACE:                                                                            \n",
      "{'gamma': 0.5, 'nthread': 1, 'objective': 'binary:logistic', 'silent': 0, 'subsample': 0.2, 'min_child_weight': 100.0, 'eta': 0.3, 'featuresCol': 'features', 'max_depth': 6, 'colsample_bytree': 0.3, 'predictionCol': 'prediction', 'num_round': 100, 'nworkers': 1, 'labelCol': 'label', 'eval_metric': 'logloss'}\n",
      "LOG-LOSS: 0.5045911178657955, ROC-AUC: 0.7331791082942914                         \n",
      "SPACE:                                                                            \n",
      "{'gamma': 0.5, 'nthread': 1, 'objective': 'binary:logistic', 'silent': 0, 'subsample': 0.2, 'min_child_weight': 100.0, 'eta': 0.3, 'featuresCol': 'features', 'max_depth': 6, 'colsample_bytree': 0.5, 'predictionCol': 'prediction', 'num_round': 100, 'nworkers': 1, 'labelCol': 'label', 'eval_metric': 'logloss'}\n",
      "LOG-LOSS: 0.5040517081508848, ROC-AUC: 0.7337902181128538                         \n",
      "SPACE:                                                                            \n",
      "{'gamma': 0.5, 'nthread': 1, 'objective': 'binary:logistic', 'silent': 0, 'subsample': 0.5, 'min_child_weight': 100.0, 'eta': 0.3, 'featuresCol': 'features', 'max_depth': 6, 'colsample_bytree': 1.0, 'predictionCol': 'prediction', 'num_round': 100, 'nworkers': 1, 'labelCol': 'label', 'eval_metric': 'logloss'}\n",
      "LOG-LOSS: 0.5020439558780021, ROC-AUC: 0.7368166037443172                         \n",
      "SPACE:                                                                            \n",
      "{'gamma': 0.5, 'nthread': 1, 'objective': 'binary:logistic', 'silent': 0, 'subsample': 0.7, 'min_child_weight': 100.0, 'eta': 0.3, 'featuresCol': 'features', 'max_depth': 6, 'colsample_bytree': 0.7, 'predictionCol': 'prediction', 'num_round': 100, 'nworkers': 1, 'labelCol': 'label', 'eval_metric': 'logloss'}\n",
      "LOG-LOSS: 0.5021379949617328, ROC-AUC: 0.736650927655395                          \n",
      "SPACE:                                                                            \n",
      "{'gamma': 0.5, 'nthread': 1, 'objective': 'binary:logistic', 'silent': 0, 'subsample': 0.2, 'min_child_weight': 100.0, 'eta': 0.3, 'featuresCol': 'features', 'max_depth': 6, 'colsample_bytree': 1.0, 'predictionCol': 'prediction', 'num_round': 100, 'nworkers': 1, 'labelCol': 'label', 'eval_metric': 'logloss'}\n",
      "LOG-LOSS: 0.5038021674949793, ROC-AUC: 0.7341673433375685                         \n",
      "SPACE:                                                                            \n",
      "{'gamma': 0.5, 'nthread': 1, 'objective': 'binary:logistic', 'silent': 0, 'subsample': 0.7, 'min_child_weight': 100.0, 'eta': 0.3, 'featuresCol': 'features', 'max_depth': 6, 'colsample_bytree': 0.5, 'predictionCol': 'prediction', 'num_round': 100, 'nworkers': 1, 'labelCol': 'label', 'eval_metric': 'logloss'}\n",
      "LOG-LOSS: 0.5023481275902483, ROC-AUC: 0.7363666410745437                         \n",
      "SPACE:                                                                            \n",
      "{'gamma': 0.5, 'nthread': 1, 'objective': 'binary:logistic', 'silent': 0, 'subsample': 0.7, 'min_child_weight': 100.0, 'eta': 0.3, 'featuresCol': 'features', 'max_depth': 6, 'colsample_bytree': 0.5, 'predictionCol': 'prediction', 'num_round': 100, 'nworkers': 1, 'labelCol': 'label', 'eval_metric': 'logloss'}\n",
      "LOG-LOSS: 0.5023481275902483, ROC-AUC: 0.7363666410745432                         \n",
      "SPACE:                                                                            \n",
      "{'gamma': 0.5, 'nthread': 1, 'objective': 'binary:logistic', 'silent': 0, 'subsample': 0.7, 'min_child_weight': 100.0, 'eta': 0.3, 'featuresCol': 'features', 'max_depth': 6, 'colsample_bytree': 0.7, 'predictionCol': 'prediction', 'num_round': 100, 'nworkers': 1, 'labelCol': 'label', 'eval_metric': 'logloss'}\n",
      "LOG-LOSS: 0.5021379949617328, ROC-AUC: 0.7366509276553935                         \n",
      "SPACE:                                                                              \n",
      "{'gamma': 0.5, 'nthread': 1, 'objective': 'binary:logistic', 'silent': 0, 'subsample': 0.7, 'min_child_weight': 100.0, 'eta': 0.3, 'featuresCol': 'features', 'max_depth': 6, 'colsample_bytree': 0.3, 'predictionCol': 'prediction', 'num_round': 100, 'nworkers': 1, 'labelCol': 'label', 'eval_metric': 'logloss'}\n",
      "LOG-LOSS: 0.5026685290567456, ROC-AUC: 0.7360061471913028                           \n",
      "SPACE:                                                                              \n",
      "{'gamma': 0.5, 'nthread': 1, 'objective': 'binary:logistic', 'silent': 0, 'subsample': 0.2, 'min_child_weight': 100.0, 'eta': 0.3, 'featuresCol': 'features', 'max_depth': 6, 'colsample_bytree': 0.5, 'predictionCol': 'prediction', 'num_round': 100, 'nworkers': 1, 'labelCol': 'label', 'eval_metric': 'logloss'}\n",
      "LOG-LOSS: 0.5040517081508848, ROC-AUC: 0.7337902181128516                           \n",
      "100%|██████████| 20/20 [1:05:36<00:00, 196.84s/trial, best loss: 0.5016359947979476]\n",
      "CPU times: user 4.49 s, sys: 1.11 s, total: 5.61 s\n",
      "Wall time: 1h 5min 36s\n"
     ]
    }
   ],
   "source": [
    "%%time\n",
    "\n",
    "subsample_choice = [0.2, 0.5, 0.7, 1.0]\n",
    "colsample_bytree_choice = [0.3, 0.5, 0.7, 1.0]\n",
    "\n",
    "space = {\n",
    "    # Optimize\n",
    "    'subsample': hp.choice('subsample', subsample_choice),\n",
    "    'colsample_bytree': hp.choice('colsample_bytree', colsample_bytree_choice),\n",
    "    \n",
    "    # Fixed\n",
    "    'num_round': current_params['num_round'],\n",
    "    'eta': current_params['eta'],\n",
    "    'max_depth': current_params['max_depth'],\n",
    "    'min_child_weight': current_params['min_child_weight'],\n",
    "    'gamma': current_params['gamma'],\n",
    "\n",
    "    \n",
    "    **static_params\n",
    "}\n",
    "\n",
    "\n",
    "trials = Trials()\n",
    "best = fmin(fn=objective,\n",
    "            space=space,\n",
    "            algo=tpe.suggest,\n",
    "            max_evals=20,\n",
    "            trials=trials)"
   ]
  },
  {
   "cell_type": "code",
   "execution_count": 61,
   "metadata": {},
   "outputs": [],
   "source": [
    "current_params['subsample'] = subsample_choice[best['subsample']]\n",
    "current_params['colsample_bytree'] = colsample_bytree_choice[best['colsample_bytree']]"
   ]
  },
  {
   "cell_type": "code",
   "execution_count": 62,
   "metadata": {},
   "outputs": [],
   "source": [
    "model = XGBoostEstimator(**{**static_params, **current_params}).fit(train_df)\n",
    "\n",
    "CURRENT_NAME = \"opt-model-4\"\n",
    "\n",
    "current_test_metrics = {\n",
    "    'logloss': logloss(model, test_df, probabilities_col='probabilities'),\n",
    "    'rocauc': rocauc(model, test_df, probabilities_col='probabilities')\n",
    "}\n",
    "\n",
    "all_metrics[CURRENT_NAME] = current_test_metrics"
   ]
  },
  {
   "cell_type": "code",
   "execution_count": 63,
   "metadata": {},
   "outputs": [
    {
     "data": {
      "text/plain": [
       "{'opt-model-1': {'logloss': 0.5038050594301458, 'rocauc': 0.7371370245588844},\n",
       " 'opt-model-2': {'logloss': 0.5038050594301458, 'rocauc': 0.7371370245588866},\n",
       " 'opt-model-3': {'logloss': 0.5040476600477894, 'rocauc': 0.7368304724249373},\n",
       " 'opt-model-4': {'logloss': 0.5040476600477894, 'rocauc': 0.7368304724249363},\n",
       " 'opt-model-5': {'logloss': 0.5038050594301458, 'rocauc': 0.7371370245588867},\n",
       " 'xgb baseline': {'logloss': 0.513826416019165, 'rocauc': 0.7240490284428945}}"
      ]
     },
     "execution_count": 63,
     "metadata": {},
     "output_type": "execute_result"
    }
   ],
   "source": [
    "all_metrics"
   ]
  },
  {
   "cell_type": "markdown",
   "metadata": {},
   "source": [
    "### Tune regularization parameters\n",
    "\n",
    "> Tune regularization parameters (lambda, alpha) for xgboost which can help reduce model complexity and enhance performance."
   ]
  },
  {
   "cell_type": "code",
   "execution_count": null,
   "metadata": {},
   "outputs": [
    {
     "name": "stdout",
     "output_type": "stream",
     "text": [
      "SPACE:                                                \n",
      "{'gamma': 0.5, 'alpha': 0.1, 'objective': 'binary:logistic', 'silent': 0, 'subsample': 1.0, 'min_child_weight': 100.0, 'eta': 0.3, 'featuresCol': 'features', 'max_depth': 6, 'nworkers': 1, 'lambda': 0.1, 'colsample_bytree': 1.0, 'predictionCol': 'prediction', 'nthread': 1, 'num_round': 100, 'labelCol': 'label', 'eval_metric': 'logloss'}\n",
      "LOG-LOSS: 0.502049101097838, ROC-AUC: 0.7367001365217775\n",
      "SPACE:                                                                            \n",
      "{'gamma': 0.5, 'alpha': 1.0, 'objective': 'binary:logistic', 'silent': 0, 'subsample': 1.0, 'min_child_weight': 100.0, 'eta': 0.3, 'featuresCol': 'features', 'max_depth': 6, 'nworkers': 1, 'lambda': 1.0, 'colsample_bytree': 1.0, 'predictionCol': 'prediction', 'nthread': 1, 'num_round': 100, 'labelCol': 'label', 'eval_metric': 'logloss'}\n",
      "LOG-LOSS: 0.5019636609775618, ROC-AUC: 0.7368997910797406                         \n",
      "SPACE:                                                                             \n",
      "{'gamma': 0.5, 'alpha': 0.0, 'objective': 'binary:logistic', 'silent': 0, 'subsample': 1.0, 'min_child_weight': 100.0, 'eta': 0.3, 'featuresCol': 'features', 'max_depth': 6, 'nworkers': 1, 'lambda': 2.0, 'colsample_bytree': 1.0, 'predictionCol': 'prediction', 'nthread': 1, 'num_round': 100, 'labelCol': 'label', 'eval_metric': 'logloss'}\n",
      "LOG-LOSS: 0.502052953403665, ROC-AUC: 0.7367701631293311                           \n",
      "SPACE:                                                                             \n",
      "{'gamma': 0.5, 'alpha': 1.0, 'objective': 'binary:logistic', 'silent': 0, 'subsample': 1.0, 'min_child_weight': 100.0, 'eta': 0.3, 'featuresCol': 'features', 'max_depth': 6, 'nworkers': 1, 'lambda': 2.0, 'colsample_bytree': 1.0, 'predictionCol': 'prediction', 'nthread': 1, 'num_round': 100, 'labelCol': 'label', 'eval_metric': 'logloss'}\n",
      "LOG-LOSS: 0.5020921605173221, ROC-AUC: 0.7367082164645149                          \n",
      "SPACE:                                                                             \n",
      "{'gamma': 0.5, 'alpha': 0.5, 'objective': 'binary:logistic', 'silent': 0, 'subsample': 1.0, 'min_child_weight': 100.0, 'eta': 0.3, 'featuresCol': 'features', 'max_depth': 6, 'nworkers': 1, 'lambda': 2.0, 'colsample_bytree': 1.0, 'predictionCol': 'prediction', 'nthread': 1, 'num_round': 100, 'labelCol': 'label', 'eval_metric': 'logloss'}\n",
      "LOG-LOSS: 0.5021119130770209, ROC-AUC: 0.7366423366021981                          \n",
      "SPACE:                                                                             \n",
      "{'gamma': 0.5, 'alpha': 1.0, 'objective': 'binary:logistic', 'silent': 0, 'subsample': 1.0, 'min_child_weight': 100.0, 'eta': 0.3, 'featuresCol': 'features', 'max_depth': 6, 'nworkers': 1, 'lambda': 0.5, 'colsample_bytree': 1.0, 'predictionCol': 'prediction', 'nthread': 1, 'num_round': 100, 'labelCol': 'label', 'eval_metric': 'logloss'}\n",
      "LOG-LOSS: 0.5020932859136505, ROC-AUC: 0.7365601363850152                          \n",
      "SPACE:                                                                             \n",
      "{'gamma': 0.5, 'alpha': 1.0, 'objective': 'binary:logistic', 'silent': 0, 'subsample': 1.0, 'min_child_weight': 100.0, 'eta': 0.3, 'featuresCol': 'features', 'max_depth': 6, 'nworkers': 1, 'lambda': 0.5, 'colsample_bytree': 1.0, 'predictionCol': 'prediction', 'nthread': 1, 'num_round': 100, 'labelCol': 'label', 'eval_metric': 'logloss'}\n",
      "LOG-LOSS: 0.5020932859136505, ROC-AUC: 0.7365601363850149                        \n",
      "SPACE:                                                                           \n",
      "{'gamma': 0.5, 'alpha': 0.0, 'objective': 'binary:logistic', 'silent': 0, 'subsample': 1.0, 'min_child_weight': 100.0, 'eta': 0.3, 'featuresCol': 'features', 'max_depth': 6, 'nworkers': 1, 'lambda': 0.5, 'colsample_bytree': 1.0, 'predictionCol': 'prediction', 'nthread': 1, 'num_round': 100, 'labelCol': 'label', 'eval_metric': 'logloss'}\n",
      "LOG-LOSS: 0.5020708116436524, ROC-AUC: 0.7366244981142552                        \n",
      "SPACE:                                                                           \n",
      "{'gamma': 0.5, 'alpha': 0.1, 'objective': 'binary:logistic', 'silent': 0, 'subsample': 1.0, 'min_child_weight': 100.0, 'eta': 0.3, 'featuresCol': 'features', 'max_depth': 6, 'nworkers': 1, 'lambda': 1.0, 'colsample_bytree': 1.0, 'predictionCol': 'prediction', 'nthread': 1, 'num_round': 100, 'labelCol': 'label', 'eval_metric': 'logloss'}\n",
      "LOG-LOSS: 0.5020628680845122, ROC-AUC: 0.7367930432108395                        \n",
      "SPACE:                                                                           \n",
      "{'gamma': 0.5, 'alpha': 0.1, 'objective': 'binary:logistic', 'silent': 0, 'subsample': 1.0, 'min_child_weight': 100.0, 'eta': 0.3, 'featuresCol': 'features', 'max_depth': 6, 'nworkers': 1, 'lambda': 0.5, 'colsample_bytree': 1.0, 'predictionCol': 'prediction', 'nthread': 1, 'num_round': 100, 'labelCol': 'label', 'eval_metric': 'logloss'}\n",
      "LOG-LOSS: 0.5022367952680523, ROC-AUC: 0.7365777402636112                        \n",
      "SPACE:                                                                            \n",
      "{'gamma': 0.5, 'alpha': 0.5, 'objective': 'binary:logistic', 'silent': 0, 'subsample': 1.0, 'min_child_weight': 100.0, 'eta': 0.3, 'featuresCol': 'features', 'max_depth': 6, 'nworkers': 1, 'lambda': 0.1, 'colsample_bytree': 1.0, 'predictionCol': 'prediction', 'nthread': 1, 'num_round': 100, 'labelCol': 'label', 'eval_metric': 'logloss'}\n",
      "LOG-LOSS: 0.5017586539462755, ROC-AUC: 0.7370960750860225                         \n",
      "SPACE:                                                                            \n",
      "{'gamma': 0.5, 'alpha': 0.5, 'objective': 'binary:logistic', 'silent': 0, 'subsample': 1.0, 'min_child_weight': 100.0, 'eta': 0.3, 'featuresCol': 'features', 'max_depth': 6, 'nworkers': 1, 'lambda': 0.1, 'colsample_bytree': 1.0, 'predictionCol': 'prediction', 'nthread': 1, 'num_round': 100, 'labelCol': 'label', 'eval_metric': 'logloss'}\n",
      "LOG-LOSS: 0.5017586539462755, ROC-AUC: 0.7370960750860224                         \n",
      "SPACE:                                                                            \n",
      "{'gamma': 0.5, 'alpha': 0.0, 'objective': 'binary:logistic', 'silent': 0, 'subsample': 1.0, 'min_child_weight': 100.0, 'eta': 0.3, 'featuresCol': 'features', 'max_depth': 6, 'nworkers': 1, 'lambda': 2.0, 'colsample_bytree': 1.0, 'predictionCol': 'prediction', 'nthread': 1, 'num_round': 100, 'labelCol': 'label', 'eval_metric': 'logloss'}\n",
      "LOG-LOSS: 0.502052953403665, ROC-AUC: 0.7367701631293293                          \n",
      "SPACE:                                                                            \n",
      "{'gamma': 0.5, 'alpha': 0.5, 'objective': 'binary:logistic', 'silent': 0, 'subsample': 1.0, 'min_child_weight': 100.0, 'eta': 0.3, 'featuresCol': 'features', 'max_depth': 6, 'nworkers': 1, 'lambda': 2.0, 'colsample_bytree': 1.0, 'predictionCol': 'prediction', 'nthread': 1, 'num_round': 100, 'labelCol': 'label', 'eval_metric': 'logloss'}\n",
      "LOG-LOSS: 0.5021119130770209, ROC-AUC: 0.7366423366021978                         \n",
      "SPACE:                                                                            \n",
      "{'gamma': 0.5, 'alpha': 1.0, 'objective': 'binary:logistic', 'silent': 0, 'subsample': 1.0, 'min_child_weight': 100.0, 'eta': 0.3, 'featuresCol': 'features', 'max_depth': 6, 'nworkers': 1, 'lambda': 1.0, 'colsample_bytree': 1.0, 'predictionCol': 'prediction', 'nthread': 1, 'num_round': 100, 'labelCol': 'label', 'eval_metric': 'logloss'}\n",
      "LOG-LOSS: 0.5019636609775618, ROC-AUC: 0.7368997910797359                         \n",
      "SPACE:                                                                              \n",
      "{'gamma': 0.5, 'alpha': 0.0, 'objective': 'binary:logistic', 'silent': 0, 'subsample': 1.0, 'min_child_weight': 100.0, 'eta': 0.3, 'featuresCol': 'features', 'max_depth': 6, 'nworkers': 1, 'lambda': 0.5, 'colsample_bytree': 1.0, 'predictionCol': 'prediction', 'nthread': 1, 'num_round': 100, 'labelCol': 'label', 'eval_metric': 'logloss'}\n",
      " 75%|███████▌  | 15/20 [1:02:29<20:47, 249.45s/trial, best loss: 0.5017586539462755]"
     ]
    }
   ],
   "source": [
    "%%time\n",
    "\n",
    "reg_alpha_choice = [0., 0.1, 0.5, 1.]\n",
    "reg_lambda_choice = [0.1, 0.5, 1., 2.]\n",
    "\n",
    "space = {\n",
    "    # Optimize\n",
    "    'alpha': hp.choice('alpha', reg_alpha_choice),\n",
    "    'reg_lambda': hp.choice('reg_lambda', reg_lambda_choice),\n",
    "    \n",
    "    # Fixed\n",
    "    'num_round': current_params['num_round'],\n",
    "    'eta': current_params['eta'],\n",
    "    'max_depth': current_params['max_depth'],\n",
    "    'min_child_weight': current_params['min_child_weight'],\n",
    "    'gamma': current_params['gamma'],\n",
    "    'subsample': current_params['subsample'],\n",
    "    'colsample_bytree': current_params['colsample_bytree'],\n",
    "    \n",
    "    **static_params\n",
    "}\n",
    "\n",
    "\n",
    "trials = Trials()\n",
    "best = fmin(fn=objective,\n",
    "            space=space,\n",
    "            algo=tpe.suggest,\n",
    "            max_evals=20,\n",
    "            trials=trials)\n",
    "best"
   ]
  },
  {
   "cell_type": "code",
   "execution_count": null,
   "metadata": {},
   "outputs": [],
   "source": [
    "current_params['alpha'] = reg_alpha_choice[best['alpha']]\n",
    "current_params['reg_lambda'] = reg_lambda_choice[best['reg_lambda']]"
   ]
  },
  {
   "cell_type": "code",
   "execution_count": null,
   "metadata": {},
   "outputs": [],
   "source": [
    "model = XGBoostEstimator(**{**static_params, **current_params}).fit(train_df)\n",
    "\n",
    "CURRENT_NAME = \"opt-model-5\"\n",
    "\n",
    "current_test_metrics = {\n",
    "    'logloss': logloss(model, test_df, probabilities_col='probabilities'),\n",
    "    'rocauc': rocauc(model, test_df, probabilities_col='probabilities')\n",
    "}\n",
    "\n",
    "all_metrics[CURRENT_NAME] = current_test_metrics"
   ]
  },
  {
   "cell_type": "code",
   "execution_count": null,
   "metadata": {},
   "outputs": [],
   "source": [
    "all_metrics"
   ]
  },
  {
   "cell_type": "markdown",
   "metadata": {},
   "source": [
    "### Lower the learning rate and decide the optimal parameters"
   ]
  },
  {
   "cell_type": "code",
   "execution_count": null,
   "metadata": {},
   "outputs": [],
   "source": [
    "# Если я верно понимаю, что просится в этом задании -- это займет вечность\n",
    "\n",
    "%%time\n",
    "\n",
    "reg_alpha_choice = [0., 0.1, 0.5, 1.]\n",
    "reg_lambda_choice = [0.1, 0.5, 1., 2.]\n",
    "subsample_choice = [0.2, 0.5, 0.7, 1.0]\n",
    "colsample_bytree_choice = [0.3, 0.5, 0.7, 1.0]\n",
    "gamma_choice = [.1, .5, 1., 3., 10., 50., 100.]\n",
    "num_round_choice = [10, 20, 40, 100]\n",
    "eta_choice = [0.5, 0.10, 0.15, 0.20, 0.30]\n",
    "max_depth_choice = [2, 4, 6]\n",
    "min_child_weight_choice = [10., 50., 100., 500.]\n",
    "eta = 0.05\n",
    "\n",
    "space = {\n",
    "    # Optimize\n",
    "    'alpha': hp.choice('alpha', reg_alpha_choice),\n",
    "    'reg_lambda': hp.choice('reg_lambda', reg_lambda_choice),\n",
    "    'alpha': hp.choice('alpha', subsample_choice),\n",
    "    'reg_lambda': hp.choice('reg_lambda', colsample_bytree_choice),\n",
    "    'alpha': hp.choice('alpha', gamma_choice),\n",
    "    'reg_lambda': hp.choice('reg_lambda', max_depth_choice),\n",
    "    'reg_lambda': hp.choice('reg_lambda', reg_lambda_choice),\n",
    "    \n",
    "    # Fixed\n",
    "    'num_round': current_params['num_round'],\n",
    "    'eta': current_params['eta'],\n",
    "    'max_depth': current_params['max_depth'],\n",
    "    'min_child_weight': current_params['min_child_weight'],\n",
    "    'gamma': current_params['gamma'],\n",
    "    'subsample': current_params['subsample'],\n",
    "    'colsample_bytree': current_params['colsample_bytree'],\n",
    "    \n",
    "    **static_params\n",
    "}\n",
    "\n",
    "\n",
    "trials = Trials()\n",
    "best = fmin(fn=objective,\n",
    "            space=space,\n",
    "            algo=tpe.suggest,\n",
    "            max_evals=20,\n",
    "            trials=trials)\n",
    "best"
   ]
  },
  {
   "cell_type": "markdown",
   "metadata": {},
   "source": [
    "---\n",
    "## LogisticRegression Tuning\n",
    "\n",
    "Подберем гиперпараметры для логрега из предыдущих практик"
   ]
  },
  {
   "cell_type": "code",
   "execution_count": null,
   "metadata": {},
   "outputs": [],
   "source": [
    "######################################\n",
    "######### YOUR CODE HERE #############\n",
    "######################################"
   ]
  },
  {
   "cell_type": "markdown",
   "metadata": {},
   "source": [
    "---\n",
    "## Optional [MongoTrials](https://hyperopt.github.io/hyperopt/scaleout/mongodb/)\n",
    "\n",
    "> For parallel search, hyperopt includes a MongoTrials implementation that supports asynchronous updates.\n",
    "\n",
    "**TLDR** Преимущества использования `MongoTrials`:\n",
    "* `MongoTrials` позволяет параллельно запускать несколько вычислений целевой функции\n",
    "* Динамический уровень параллелизма - можно добавлять/удалять воркеров, которые вычисляют целевую функцию\n",
    "* Все результаты сохраняются в БД - история запусков никуда не потеряется\n",
    "\n",
    "*За выполнение данного задания можно получить дополнительно +0.4 к итоговому баллу*"
   ]
  },
  {
   "cell_type": "markdown",
   "metadata": {},
   "source": [
    "### XGBoost Tuning"
   ]
  },
  {
   "cell_type": "code",
   "execution_count": null,
   "metadata": {},
   "outputs": [],
   "source": [
    "######################################\n",
    "######### YOUR CODE HERE #############\n",
    "######################################"
   ]
  },
  {
   "cell_type": "markdown",
   "metadata": {},
   "source": [
    "# Results\n",
    "\n",
    "Подведем итоги.\n",
    "\n",
    "Обучите модели с найденными (оптимальными) гиперпараметрами и сделайте справнение на отложенной выборке"
   ]
  },
  {
   "cell_type": "code",
   "execution_count": null,
   "metadata": {},
   "outputs": [],
   "source": [
    "######################################\n",
    "######### YOUR CODE HERE #############\n",
    "######################################"
   ]
  },
  {
   "cell_type": "markdown",
   "metadata": {},
   "source": [
    "Итоговая таблица"
   ]
  },
  {
   "cell_type": "code",
   "execution_count": null,
   "metadata": {},
   "outputs": [],
   "source": [
    "get_ate(all_metrics, CONTROL_NAME)"
   ]
  }
 ],
 "metadata": {
  "kernelspec": {
   "display_name": "Python 3",
   "language": "python",
   "name": "python3"
  },
  "language_info": {
   "codemirror_mode": {
    "name": "ipython",
    "version": 3
   },
   "file_extension": ".py",
   "mimetype": "text/x-python",
   "name": "python",
   "nbconvert_exporter": "python",
   "pygments_lexer": "ipython3",
   "version": "3.5.6"
  },
  "toc": {
   "base_numbering": 1,
   "nav_menu": {},
   "number_sections": true,
   "sideBar": true,
   "skip_h1_title": false,
   "title_cell": "Table of Contents",
   "title_sidebar": "Contents",
   "toc_cell": true,
   "toc_position": {},
   "toc_section_display": true,
   "toc_window_display": true
  }
 },
 "nbformat": 4,
 "nbformat_minor": 2
}
